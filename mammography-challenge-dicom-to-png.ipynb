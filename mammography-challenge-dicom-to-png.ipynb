{
 "cells": [
  {
   "cell_type": "code",
   "execution_count": null,
   "metadata": {
    "execution": {
     "iopub.execute_input": "2023-02-27T20:04:39.120808Z",
     "iopub.status.busy": "2023-02-27T20:04:39.119787Z",
     "iopub.status.idle": "2023-02-27T20:04:39.126262Z",
     "shell.execute_reply": "2023-02-27T20:04:39.124985Z",
     "shell.execute_reply.started": "2023-02-27T20:04:39.120673Z"
    }
   },
   "outputs": [],
   "source": [
    "# https://www.kaggle.com/code/deannahedges/mammography-challenge-dicom-to-png\n",
    "# results: https://www.kaggle.com/datasets/deannahedges/mammography-challenge-pngs\n",
    "\n",
    "# Sources:\n",
    "    # To go from Dicom -> PNG:\n",
    "        # https://www.kaggle.com/code/radek1/how-to-process-dicom-images-to-pngs/notebook?scriptVersionId=113529850\n",
    "    # To load the data, configure for performance, and build model in keras:\n",
    "        # https://www.tensorflow.org/tutorials/load_data/images#:~:text=This%20tutorial%20shows%20how%20to%20load%20and%20preprocess,from%20the%20large%20catalog%20available%20in%20TensorFlow%20Datasets.\n",
    "    # To augment the data:\n",
    "        # https://www.tensorflow.org/tutorials/images/data_augmentation\n",
    "    # To make the submission notebook:\n",
    "        # https://www.kaggle.com/code/radek1/fast-ai-starter-pack-train-inference/notebook\n",
    "        \n",
    "\n",
    "import numpy as np\n",
    "import pandas as pd"
   ]
  },
  {
   "cell_type": "markdown",
   "metadata": {},
   "source": [
    "## Exploring training csv with labels"
   ]
  },
  {
   "cell_type": "code",
   "execution_count": null,
   "metadata": {
    "execution": {
     "iopub.execute_input": "2023-02-27T20:04:39.145291Z",
     "iopub.status.busy": "2023-02-27T20:04:39.144983Z",
     "iopub.status.idle": "2023-02-27T20:04:39.269673Z",
     "shell.execute_reply": "2023-02-27T20:04:39.268301Z",
     "shell.execute_reply.started": "2023-02-27T20:04:39.145264Z"
    }
   },
   "outputs": [],
   "source": [
    "train_file = pd.read_csv(\"/kaggle/input/rsna-breast-cancer-detection/train.csv\")\n",
    "train_file.head()"
   ]
  },
  {
   "cell_type": "code",
   "execution_count": null,
   "metadata": {
    "execution": {
     "iopub.execute_input": "2023-02-27T20:04:42.256626Z",
     "iopub.status.busy": "2023-02-27T20:04:42.256067Z",
     "iopub.status.idle": "2023-02-27T20:04:42.314842Z",
     "shell.execute_reply": "2023-02-27T20:04:42.313572Z",
     "shell.execute_reply.started": "2023-02-27T20:04:42.256577Z"
    }
   },
   "outputs": [],
   "source": [
    "train_file['cancer'] = train_file['cancer'].astype('float32')\n",
    "train_file.info()"
   ]
  },
  {
   "cell_type": "code",
   "execution_count": null,
   "metadata": {
    "execution": {
     "iopub.execute_input": "2023-02-27T20:04:45.735046Z",
     "iopub.status.busy": "2023-02-27T20:04:45.733910Z",
     "iopub.status.idle": "2023-02-27T20:04:45.749157Z",
     "shell.execute_reply": "2023-02-27T20:04:45.747686Z",
     "shell.execute_reply.started": "2023-02-27T20:04:45.734998Z"
    }
   },
   "outputs": [],
   "source": [
    "train_file['cancer'].value_counts()"
   ]
  },
  {
   "cell_type": "markdown",
   "metadata": {},
   "source": [
    "## Creating function to categorize images as \"positive\" or \"negative\" based on file path"
   ]
  },
  {
   "cell_type": "code",
   "execution_count": null,
   "metadata": {
    "execution": {
     "iopub.execute_input": "2023-02-27T17:41:58.871058Z",
     "iopub.status.busy": "2023-02-27T17:41:58.870682Z",
     "iopub.status.idle": "2023-02-27T17:41:58.877645Z",
     "shell.execute_reply": "2023-02-27T17:41:58.876164Z",
     "shell.execute_reply.started": "2023-02-27T17:41:58.871024Z"
    }
   },
   "outputs": [],
   "source": [
    "def pos_or_neg(img_directory):\n",
    "    img_id = str(img_directory).split('/')[-1][:-4]\n",
    "    diagnosis = train_file.loc[train_file['image_id']==int(img_id), 'cancer'].values[0]\n",
    "    if diagnosis == 0:\n",
    "        return \"negative\"\n",
    "    else:\n",
    "        return \"positive\""
   ]
  },
  {
   "cell_type": "code",
   "execution_count": null,
   "metadata": {
    "execution": {
     "iopub.execute_input": "2023-02-27T17:42:00.568152Z",
     "iopub.status.busy": "2023-02-27T17:42:00.567415Z",
     "iopub.status.idle": "2023-02-27T17:42:11.057884Z",
     "shell.execute_reply": "2023-02-27T17:42:11.056505Z",
     "shell.execute_reply.started": "2023-02-27T17:42:00.568112Z"
    }
   },
   "outputs": [],
   "source": [
    "!pip install dicomsdl"
   ]
  },
  {
   "cell_type": "markdown",
   "metadata": {},
   "source": [
    "## Transforming images from DICOM format to PNG and sorting them into a \"positive\" and \"negative\" folder"
   ]
  },
  {
   "cell_type": "code",
   "execution_count": null,
   "metadata": {},
   "outputs": [],
   "source": [
    "import pydicom\n",
    "import cv2\n",
    "import os\n",
    "from joblib import Parallel, delayed\n",
    "from tqdm.notebook import tqdm\n",
    "from pathlib import Path\n",
    "from pydicom.pixel_data_handlers.util import apply_voi_lut\n",
    "import dicomsdl\n",
    "import sys\n",
    "import time\n",
    "\n",
    "RESIZE_TO = (256, 256)"
   ]
  },
  {
   "cell_type": "code",
   "execution_count": null,
   "metadata": {
    "_cell_guid": "b1076dfc-b9ad-4769-8c92-a6c4dae69d19",
    "_uuid": "8f2839f25d086af736a60e9eeb907d3b93b6e0e5",
    "execution": {
     "iopub.execute_input": "2023-02-27T19:10:10.433377Z",
     "iopub.status.busy": "2023-02-27T19:10:10.432834Z",
     "iopub.status.idle": "2023-02-27T19:15:11.518525Z",
     "shell.execute_reply": "2023-02-27T19:15:11.516011Z",
     "shell.execute_reply.started": "2023-02-27T19:10:10.433319Z"
    }
   },
   "outputs": [],
   "source": [
    "%%time\n",
    "\n",
    "!mkdir -p /kaggle/working/train_images_processed_cv2_dicomsdl_{RESIZE_TO[0]}/positive/\n",
    "!mkdir -p /kaggle/working/train_images_processed_cv2_dicomsdl_{RESIZE_TO[0]}/negative/\n",
    "\n",
    "# https://www.kaggle.com/code/tanlikesmath/brain-tumor-radiogenomic-classification-eda/notebook\n",
    "def dicom_file_to_ary(path):\n",
    "    dcm_file = dicomsdl.open(str(path))\n",
    "    data = dcm_file.pixelData()\n",
    "\n",
    "    data = (data - data.min()) / (data.max() - data.min())\n",
    "\n",
    "    if dcm_file.getPixelDataInfo()['PhotometricInterpretation'] == \"MONOCHROME1\":\n",
    "        data = 1 - data\n",
    "\n",
    "    data = cv2.resize(data, RESIZE_TO)\n",
    "    data = (data * 255).astype(np.uint8)\n",
    "    return data\n",
    "\n",
    "image_directories = []\n",
    "for patient_dir in Path('/kaggle/input/rsna-breast-cancer-detection/train_images/').iterdir():\n",
    "    for pic_dir in patient_dir.iterdir():\n",
    "#         if pic_dir.stem not in done_ids:\n",
    "        image_directories.append(pic_dir)\n",
    "print(len(image_directories))\n",
    "\n",
    "def process_directory(directory_path):\n",
    "    parent_directory = pos_or_neg(directory_path)\n",
    "    \n",
    "    processed_ary = dicom_file_to_ary(directory_path)\n",
    "        \n",
    "    cv2.imwrite(\n",
    "        f'train_images_processed_cv2_dicomsdl_{RESIZE_TO[0]}/{parent_directory}/{directory_path.stem}.png',\n",
    "        processed_ary\n",
    "    )\n",
    "pos_dir = Path(\"/kaggle/working/train_images_processed_cv2_dicomsdl_256/positive/\")\n",
    "    \n",
    "import multiprocessing as mp\n",
    "\n",
    "with mp.Pool(64) as p:\n",
    "    p.map(process_directory, image_directories)"
   ]
  },
  {
   "cell_type": "markdown",
   "metadata": {},
   "source": [
    "## Insuring that the final number of images matches the original number"
   ]
  },
  {
   "cell_type": "code",
   "execution_count": null,
   "metadata": {
    "execution": {
     "iopub.execute_input": "2023-02-27T19:16:47.430024Z",
     "iopub.status.busy": "2023-02-27T19:16:47.429288Z",
     "iopub.status.idle": "2023-02-27T19:16:47.466316Z",
     "shell.execute_reply": "2023-02-27T19:16:47.464966Z",
     "shell.execute_reply.started": "2023-02-27T19:16:47.429982Z"
    }
   },
   "outputs": [],
   "source": [
    "from pathlib import Path\n",
    "data_dir = Path(\"/kaggle/working/train_images_processed_cv2_dicomsdl_256/\")\n",
    "done_paths = list(data_dir.glob('*/*.png'))\n",
    "image_count = len(list(data_dir.glob('*/*.png')))\n",
    "print(image_count)"
   ]
  }
 ],
 "metadata": {
  "kernelspec": {
   "display_name": "Python 3",
   "language": "python",
   "name": "python3"
  },
  "language_info": {
   "codemirror_mode": {
    "name": "ipython",
    "version": 3
   },
   "file_extension": ".py",
   "mimetype": "text/x-python",
   "name": "python",
   "nbconvert_exporter": "python",
   "pygments_lexer": "ipython3",
   "version": "3.6.4"
  }
 },
 "nbformat": 4,
 "nbformat_minor": 4
}
