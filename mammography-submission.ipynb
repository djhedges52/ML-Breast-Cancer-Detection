{
 "cells": [
  {
   "cell_type": "code",
   "execution_count": null,
   "metadata": {},
   "outputs": [],
   "source": [
    "# https://www.kaggle.com/code/deannahedges/mammography-submission"
   ]
  },
  {
   "cell_type": "code",
   "execution_count": 3,
   "metadata": {
    "execution": {
     "iopub.execute_input": "2023-04-06T03:46:15.363532Z",
     "iopub.status.busy": "2023-04-06T03:46:15.363119Z",
     "iopub.status.idle": "2023-04-06T03:46:28.744884Z",
     "shell.execute_reply": "2023-04-06T03:46:28.743399Z",
     "shell.execute_reply.started": "2023-04-06T03:46:15.363496Z"
    }
   },
   "outputs": [
    {
     "name": "stdout",
     "output_type": "stream",
     "text": [
      "Collecting dicomsdl\n",
      "  Downloading dicomsdl-0.109.1-cp37-cp37m-manylinux_2_12_x86_64.manylinux2010_x86_64.whl (1.4 MB)\n",
      "\u001b[2K     \u001b[90m━━━━━━━━━━━━━━━━━━━━━━━━━━━━━━━━━━━━━━━━\u001b[0m \u001b[32m1.4/1.4 MB\u001b[0m \u001b[31m21.4 MB/s\u001b[0m eta \u001b[36m0:00:00\u001b[0ma \u001b[36m0:00:01\u001b[0m\n",
      "\u001b[?25hInstalling collected packages: dicomsdl\n",
      "Successfully installed dicomsdl-0.109.1\n",
      "\u001b[33mWARNING: Running pip as the 'root' user can result in broken permissions and conflicting behaviour with the system package manager. It is recommended to use a virtual environment instead: https://pip.pypa.io/warnings/venv\u001b[0m\u001b[33m\n",
      "\u001b[0m"
     ]
    }
   ],
   "source": [
    "!pip install /kaggle/input/dicomsdl-offline-installer/dicomsdl-0.109.1-cp37-cp37m-manylinux_2_12_x86_64.manylinux2010_x86_64.whl"
   ]
  },
  {
   "cell_type": "code",
   "execution_count": 11,
   "metadata": {
    "execution": {
     "iopub.execute_input": "2023-04-06T04:00:43.489575Z",
     "iopub.status.busy": "2023-04-06T04:00:43.489152Z",
     "iopub.status.idle": "2023-04-06T04:00:53.228986Z",
     "shell.execute_reply": "2023-04-06T04:00:53.227457Z",
     "shell.execute_reply.started": "2023-04-06T04:00:43.489530Z"
    }
   },
   "outputs": [],
   "source": [
    "import pydicom\n",
    "import cv2\n",
    "import os\n",
    "from joblib import Parallel, delayed\n",
    "from tqdm.notebook import tqdm\n",
    "from pathlib import Path\n",
    "from pydicom.pixel_data_handlers.util import apply_voi_lut\n",
    "import dicomsdl\n",
    "import sys\n",
    "import time\n",
    "import numpy as np\n",
    "import pandas as pd\n",
    "import tensorflow as tf\n",
    "\n",
    "RESIZE_TO = (256, 256)"
   ]
  },
  {
   "cell_type": "code",
   "execution_count": 5,
   "metadata": {
    "execution": {
     "iopub.execute_input": "2023-04-06T03:47:41.065402Z",
     "iopub.status.busy": "2023-04-06T03:47:41.064737Z",
     "iopub.status.idle": "2023-04-06T03:47:44.156193Z",
     "shell.execute_reply": "2023-04-06T03:47:44.154863Z",
     "shell.execute_reply.started": "2023-04-06T03:47:41.065354Z"
    }
   },
   "outputs": [
    {
     "name": "stdout",
     "output_type": "stream",
     "text": [
      "4\n"
     ]
    }
   ],
   "source": [
    "!mkdir -p /kaggle/working/test_images_processed_cv2_dicomsdl_{RESIZE_TO[0]}/\n",
    "\n",
    "# https://www.kaggle.com/code/tanlikesmath/brain-tumor-radiogenomic-classification-eda/notebook\n",
    "def dicom_file_to_ary(path):\n",
    "    dcm_file = dicomsdl.open(str(path))\n",
    "    data = dcm_file.pixelData()\n",
    "\n",
    "    data = (data - data.min()) / (data.max() - data.min())\n",
    "\n",
    "    if dcm_file.getPixelDataInfo()['PhotometricInterpretation'] == \"MONOCHROME1\":\n",
    "        data = 1 - data\n",
    "\n",
    "    data = cv2.resize(data, RESIZE_TO)\n",
    "    data = (data * 255).astype(np.uint8)\n",
    "    return data\n",
    "\n",
    "\n",
    "image_directories = []\n",
    "for img in Path('/kaggle/input/rsna-breast-cancer-detection/test_images/10008/').iterdir():\n",
    "    image_directories.append(img)\n",
    "print(len(image_directories))\n",
    "\n",
    "def process_directory(directory_path):\n",
    "    \n",
    "    processed_ary = dicom_file_to_ary(directory_path)\n",
    "        \n",
    "    cv2.imwrite(\n",
    "        f'test_images_processed_cv2_dicomsdl_{RESIZE_TO[0]}/{directory_path.stem}.png',\n",
    "        processed_ary\n",
    "    )\n",
    "test_dir = Path(\"/kaggle/working/test_images_processed_cv2_dicomsdl_256/\")\n",
    "\n",
    "import multiprocessing as mp\n",
    "\n",
    "with mp.Pool(64) as p:\n",
    "    p.map(process_directory, image_directories)\n"
   ]
  },
  {
   "cell_type": "code",
   "execution_count": 7,
   "metadata": {
    "execution": {
     "iopub.execute_input": "2023-04-06T03:47:52.599481Z",
     "iopub.status.busy": "2023-04-06T03:47:52.598941Z",
     "iopub.status.idle": "2023-04-06T03:47:52.606275Z",
     "shell.execute_reply": "2023-04-06T03:47:52.604907Z",
     "shell.execute_reply.started": "2023-04-06T03:47:52.599428Z"
    }
   },
   "outputs": [
    {
     "name": "stdout",
     "output_type": "stream",
     "text": [
      "4\n"
     ]
    }
   ],
   "source": [
    "image_count = len(list(test_dir.glob('*.png')))\n",
    "print(image_count)"
   ]
  },
  {
   "cell_type": "code",
   "execution_count": 106,
   "metadata": {
    "execution": {
     "iopub.execute_input": "2023-04-06T04:48:05.120987Z",
     "iopub.status.busy": "2023-04-06T04:48:05.120517Z",
     "iopub.status.idle": "2023-04-06T04:48:05.141286Z",
     "shell.execute_reply": "2023-04-06T04:48:05.139924Z",
     "shell.execute_reply.started": "2023-04-06T04:48:05.120945Z"
    }
   },
   "outputs": [
    {
     "data": {
      "text/html": [
       "<div>\n",
       "<style scoped>\n",
       "    .dataframe tbody tr th:only-of-type {\n",
       "        vertical-align: middle;\n",
       "    }\n",
       "\n",
       "    .dataframe tbody tr th {\n",
       "        vertical-align: top;\n",
       "    }\n",
       "\n",
       "    .dataframe thead th {\n",
       "        text-align: right;\n",
       "    }\n",
       "</style>\n",
       "<table border=\"1\" class=\"dataframe\">\n",
       "  <thead>\n",
       "    <tr style=\"text-align: right;\">\n",
       "      <th></th>\n",
       "      <th>site_id</th>\n",
       "      <th>patient_id</th>\n",
       "      <th>image_id</th>\n",
       "      <th>laterality</th>\n",
       "      <th>view</th>\n",
       "      <th>age</th>\n",
       "      <th>implant</th>\n",
       "      <th>machine_id</th>\n",
       "      <th>prediction_id</th>\n",
       "      <th>cancer</th>\n",
       "    </tr>\n",
       "  </thead>\n",
       "  <tbody>\n",
       "    <tr>\n",
       "      <th>0</th>\n",
       "      <td>2</td>\n",
       "      <td>10008</td>\n",
       "      <td>736471439</td>\n",
       "      <td>L</td>\n",
       "      <td>MLO</td>\n",
       "      <td>81</td>\n",
       "      <td>0</td>\n",
       "      <td>21</td>\n",
       "      <td>10008_L</td>\n",
       "      <td>0</td>\n",
       "    </tr>\n",
       "    <tr>\n",
       "      <th>1</th>\n",
       "      <td>2</td>\n",
       "      <td>10008</td>\n",
       "      <td>1591370361</td>\n",
       "      <td>L</td>\n",
       "      <td>CC</td>\n",
       "      <td>81</td>\n",
       "      <td>0</td>\n",
       "      <td>21</td>\n",
       "      <td>10008_L</td>\n",
       "      <td>0</td>\n",
       "    </tr>\n",
       "    <tr>\n",
       "      <th>2</th>\n",
       "      <td>2</td>\n",
       "      <td>10008</td>\n",
       "      <td>68070693</td>\n",
       "      <td>R</td>\n",
       "      <td>MLO</td>\n",
       "      <td>81</td>\n",
       "      <td>0</td>\n",
       "      <td>21</td>\n",
       "      <td>10008_R</td>\n",
       "      <td>0</td>\n",
       "    </tr>\n",
       "    <tr>\n",
       "      <th>3</th>\n",
       "      <td>2</td>\n",
       "      <td>10008</td>\n",
       "      <td>361203119</td>\n",
       "      <td>R</td>\n",
       "      <td>CC</td>\n",
       "      <td>81</td>\n",
       "      <td>0</td>\n",
       "      <td>21</td>\n",
       "      <td>10008_R</td>\n",
       "      <td>0</td>\n",
       "    </tr>\n",
       "  </tbody>\n",
       "</table>\n",
       "</div>"
      ],
      "text/plain": [
       "   site_id  patient_id    image_id laterality view  age  implant  machine_id  \\\n",
       "0        2       10008   736471439          L  MLO   81        0          21   \n",
       "1        2       10008  1591370361          L   CC   81        0          21   \n",
       "2        2       10008    68070693          R  MLO   81        0          21   \n",
       "3        2       10008   361203119          R   CC   81        0          21   \n",
       "\n",
       "  prediction_id  cancer  \n",
       "0       10008_L       0  \n",
       "1       10008_L       0  \n",
       "2       10008_R       0  \n",
       "3       10008_R       0  "
      ]
     },
     "execution_count": 106,
     "metadata": {},
     "output_type": "execute_result"
    }
   ],
   "source": [
    "df = pd.read_csv(\"/kaggle/input/rsna-breast-cancer-detection/test.csv\")\n",
    "df['cancer']=0\n",
    "df.head()"
   ]
  },
  {
   "cell_type": "code",
   "execution_count": 12,
   "metadata": {
    "execution": {
     "iopub.execute_input": "2023-04-06T04:00:53.232150Z",
     "iopub.status.busy": "2023-04-06T04:00:53.231422Z",
     "iopub.status.idle": "2023-04-06T04:00:54.964538Z",
     "shell.execute_reply": "2023-04-06T04:00:54.963201Z",
     "shell.execute_reply.started": "2023-04-06T04:00:53.232105Z"
    }
   },
   "outputs": [],
   "source": [
    "model = tf.keras.models.load_model('/kaggle/input/mammography-model-v1/model.h5')"
   ]
  },
  {
   "cell_type": "code",
   "execution_count": 107,
   "metadata": {
    "execution": {
     "iopub.execute_input": "2023-04-06T04:48:07.490686Z",
     "iopub.status.busy": "2023-04-06T04:48:07.489692Z",
     "iopub.status.idle": "2023-04-06T04:48:07.497986Z",
     "shell.execute_reply": "2023-04-06T04:48:07.496506Z",
     "shell.execute_reply.started": "2023-04-06T04:48:07.490605Z"
    }
   },
   "outputs": [],
   "source": [
    "def predict_cancer(img_path):\n",
    "    img = tf.keras.utils.load_img(img_path,target_size=RESIZE_TO)\n",
    "    img_array = tf.keras.utils.img_to_array(img)\n",
    "    img_array = tf.expand_dims(img_array,0)\n",
    "    predictions = model.predict(img_array)\n",
    "    confidence = np.where(predictions > 0.5,1,0).squeeze().item()\n",
    "    print(str(predictions).strip('[]'))\n",
    "    return float(str(predictions).strip('[]'))"
   ]
  },
  {
   "cell_type": "code",
   "execution_count": 108,
   "metadata": {
    "execution": {
     "iopub.execute_input": "2023-04-06T04:48:07.925672Z",
     "iopub.status.busy": "2023-04-06T04:48:07.925243Z",
     "iopub.status.idle": "2023-04-06T04:48:09.929725Z",
     "shell.execute_reply": "2023-04-06T04:48:09.928504Z",
     "shell.execute_reply.started": "2023-04-06T04:48:07.925634Z"
    }
   },
   "outputs": [
    {
     "name": "stdout",
     "output_type": "stream",
     "text": [
      "68070693\n",
      "1/1 [==============================] - 0s 452ms/step\n",
      "0.00645487\n",
      "361203119\n",
      "1/1 [==============================] - 0s 453ms/step\n",
      "0.00845106\n",
      "1591370361\n",
      "1/1 [==============================] - 0s 451ms/step\n",
      "0.00331484\n",
      "736471439\n",
      "1/1 [==============================] - 0s 447ms/step\n",
      "0.00353256\n"
     ]
    }
   ],
   "source": [
    "for img_dir in test_dir.iterdir():\n",
    "    print(str(img_dir.stem))\n",
    "    df.loc[(df.image_id==int(img_dir.stem)),'cancer'] = predict_cancer(img_dir)"
   ]
  },
  {
   "cell_type": "code",
   "execution_count": 111,
   "metadata": {
    "execution": {
     "iopub.execute_input": "2023-04-06T04:48:35.369056Z",
     "iopub.status.busy": "2023-04-06T04:48:35.368650Z",
     "iopub.status.idle": "2023-04-06T04:48:35.382553Z",
     "shell.execute_reply": "2023-04-06T04:48:35.381529Z",
     "shell.execute_reply.started": "2023-04-06T04:48:35.369021Z"
    }
   },
   "outputs": [
    {
     "data": {
      "text/html": [
       "<div>\n",
       "<style scoped>\n",
       "    .dataframe tbody tr th:only-of-type {\n",
       "        vertical-align: middle;\n",
       "    }\n",
       "\n",
       "    .dataframe tbody tr th {\n",
       "        vertical-align: top;\n",
       "    }\n",
       "\n",
       "    .dataframe thead th {\n",
       "        text-align: right;\n",
       "    }\n",
       "</style>\n",
       "<table border=\"1\" class=\"dataframe\">\n",
       "  <thead>\n",
       "    <tr style=\"text-align: right;\">\n",
       "      <th></th>\n",
       "      <th>prediction_id</th>\n",
       "      <th>cancer</th>\n",
       "    </tr>\n",
       "  </thead>\n",
       "  <tbody>\n",
       "    <tr>\n",
       "      <th>0</th>\n",
       "      <td>10008_L</td>\n",
       "      <td>0.003533</td>\n",
       "    </tr>\n",
       "    <tr>\n",
       "      <th>1</th>\n",
       "      <td>10008_L</td>\n",
       "      <td>0.003315</td>\n",
       "    </tr>\n",
       "    <tr>\n",
       "      <th>2</th>\n",
       "      <td>10008_R</td>\n",
       "      <td>0.006455</td>\n",
       "    </tr>\n",
       "    <tr>\n",
       "      <th>3</th>\n",
       "      <td>10008_R</td>\n",
       "      <td>0.008451</td>\n",
       "    </tr>\n",
       "  </tbody>\n",
       "</table>\n",
       "</div>"
      ],
      "text/plain": [
       "  prediction_id    cancer\n",
       "0       10008_L  0.003533\n",
       "1       10008_L  0.003315\n",
       "2       10008_R  0.006455\n",
       "3       10008_R  0.008451"
      ]
     },
     "execution_count": 111,
     "metadata": {},
     "output_type": "execute_result"
    }
   ],
   "source": [
    "df = df[['prediction_id','cancer']]\n",
    "\n",
    "final = df\n",
    "df.head()"
   ]
  },
  {
   "cell_type": "code",
   "execution_count": 112,
   "metadata": {
    "execution": {
     "iopub.execute_input": "2023-04-06T04:48:36.054158Z",
     "iopub.status.busy": "2023-04-06T04:48:36.053299Z",
     "iopub.status.idle": "2023-04-06T04:48:36.077624Z",
     "shell.execute_reply": "2023-04-06T04:48:36.076263Z",
     "shell.execute_reply.started": "2023-04-06T04:48:36.054118Z"
    }
   },
   "outputs": [
    {
     "data": {
      "text/html": [
       "<div>\n",
       "<style scoped>\n",
       "    .dataframe tbody tr th:only-of-type {\n",
       "        vertical-align: middle;\n",
       "    }\n",
       "\n",
       "    .dataframe tbody tr th {\n",
       "        vertical-align: top;\n",
       "    }\n",
       "\n",
       "    .dataframe thead th {\n",
       "        text-align: right;\n",
       "    }\n",
       "</style>\n",
       "<table border=\"1\" class=\"dataframe\">\n",
       "  <thead>\n",
       "    <tr style=\"text-align: right;\">\n",
       "      <th></th>\n",
       "      <th>prediction_id</th>\n",
       "      <th>cancer</th>\n",
       "    </tr>\n",
       "  </thead>\n",
       "  <tbody>\n",
       "    <tr>\n",
       "      <th>0</th>\n",
       "      <td>10008_L</td>\n",
       "      <td>0.003533</td>\n",
       "    </tr>\n",
       "    <tr>\n",
       "      <th>1</th>\n",
       "      <td>10008_R</td>\n",
       "      <td>0.008451</td>\n",
       "    </tr>\n",
       "  </tbody>\n",
       "</table>\n",
       "</div>"
      ],
      "text/plain": [
       "  prediction_id    cancer\n",
       "0       10008_L  0.003533\n",
       "1       10008_R  0.008451"
      ]
     },
     "execution_count": 112,
     "metadata": {},
     "output_type": "execute_result"
    }
   ],
   "source": [
    "final = final.groupby('prediction_id').max().reset_index()\n",
    "final.head()"
   ]
  },
  {
   "cell_type": "code",
   "execution_count": 113,
   "metadata": {
    "execution": {
     "iopub.execute_input": "2023-04-06T04:49:16.102762Z",
     "iopub.status.busy": "2023-04-06T04:49:16.102330Z",
     "iopub.status.idle": "2023-04-06T04:49:16.113578Z",
     "shell.execute_reply": "2023-04-06T04:49:16.112229Z",
     "shell.execute_reply.started": "2023-04-06T04:49:16.102721Z"
    }
   },
   "outputs": [],
   "source": [
    "final.to_csv('submission.csv',index=False)"
   ]
  }
 ],
 "metadata": {
  "kernelspec": {
   "display_name": "Python 3",
   "language": "python",
   "name": "python3"
  },
  "language_info": {
   "codemirror_mode": {
    "name": "ipython",
    "version": 3
   },
   "file_extension": ".py",
   "mimetype": "text/x-python",
   "name": "python",
   "nbconvert_exporter": "python",
   "pygments_lexer": "ipython3",
   "version": "3.7.12"
  }
 },
 "nbformat": 4,
 "nbformat_minor": 4
}
