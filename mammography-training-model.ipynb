{
 "cells": [
  {
   "cell_type": "code",
   "execution_count": null,
   "metadata": {
    "_cell_guid": "b1076dfc-b9ad-4769-8c92-a6c4dae69d19",
    "_uuid": "8f2839f25d086af736a60e9eeb907d3b93b6e0e5",
    "execution": {
     "iopub.execute_input": "2023-04-06T03:08:13.925988Z",
     "iopub.status.busy": "2023-04-06T03:08:13.925068Z",
     "iopub.status.idle": "2023-04-06T03:08:13.933450Z",
     "shell.execute_reply": "2023-04-06T03:08:13.932070Z",
     "shell.execute_reply.started": "2023-04-06T03:08:13.925937Z"
    }
   },
   "outputs": [],
   "source": [
    "# https://www.kaggle.com/code/deannahedges/mammography-training-model\n",
    "\n",
    "import tensorflow as tf\n",
    "from tensorflow.keras import datasets, layers, models, optimizers\n",
    "import numpy as np\n",
    "import keras.backend as K\n",
    "print(\"Tensorflow version \" + tf.__version__)"
   ]
  },
  {
   "cell_type": "code",
   "execution_count": null,
   "metadata": {
    "execution": {
     "iopub.execute_input": "2023-04-06T02:35:33.715671Z",
     "iopub.status.busy": "2023-04-06T02:35:33.714657Z",
     "iopub.status.idle": "2023-04-06T02:35:33.720259Z",
     "shell.execute_reply": "2023-04-06T02:35:33.719182Z",
     "shell.execute_reply.started": "2023-04-06T02:35:33.715632Z"
    }
   },
   "outputs": [],
   "source": [
    "import os\n",
    "from pathlib import Path\n",
    "import glob"
   ]
  },
  {
   "cell_type": "code",
   "execution_count": null,
   "metadata": {
    "execution": {
     "iopub.execute_input": "2023-04-06T02:35:35.059495Z",
     "iopub.status.busy": "2023-04-06T02:35:35.058516Z",
     "iopub.status.idle": "2023-04-06T02:35:35.064175Z",
     "shell.execute_reply": "2023-04-06T02:35:35.062936Z",
     "shell.execute_reply.started": "2023-04-06T02:35:35.059457Z"
    }
   },
   "outputs": [],
   "source": [
    "data_dir = Path (\"/kaggle/input/mammography-challenge-pngs/train_images_processed_cv2_dicomsdl_256/\")"
   ]
  },
  {
   "cell_type": "code",
   "execution_count": null,
   "metadata": {
    "execution": {
     "iopub.execute_input": "2023-04-06T02:35:51.636047Z",
     "iopub.status.busy": "2023-04-06T02:35:51.635133Z",
     "iopub.status.idle": "2023-04-06T02:35:51.641343Z",
     "shell.execute_reply": "2023-04-06T02:35:51.640357Z",
     "shell.execute_reply.started": "2023-04-06T02:35:51.635972Z"
    }
   },
   "outputs": [],
   "source": [
    "batch_size = 32\n",
    "img_height = 256\n",
    "img_width = 256\n",
    "epochs = 5"
   ]
  },
  {
   "cell_type": "code",
   "execution_count": null,
   "metadata": {
    "execution": {
     "iopub.execute_input": "2023-04-06T02:35:52.037154Z",
     "iopub.status.busy": "2023-04-06T02:35:52.036776Z",
     "iopub.status.idle": "2023-04-06T02:36:46.257320Z",
     "shell.execute_reply": "2023-04-06T02:36:46.256272Z",
     "shell.execute_reply.started": "2023-04-06T02:35:52.037123Z"
    }
   },
   "outputs": [],
   "source": [
    "train_ds = tf.keras.utils.image_dataset_from_directory(\n",
    "    data_dir,\n",
    "    validation_split=0.2,\n",
    "    subset='training',\n",
    "    seed=123,\n",
    "    image_size=(img_height,img_width),\n",
    "    batch_size=batch_size)"
   ]
  },
  {
   "cell_type": "code",
   "execution_count": null,
   "metadata": {
    "execution": {
     "iopub.execute_input": "2023-04-06T02:36:46.261386Z",
     "iopub.status.busy": "2023-04-06T02:36:46.260397Z",
     "iopub.status.idle": "2023-04-06T02:37:09.299190Z",
     "shell.execute_reply": "2023-04-06T02:37:09.298072Z",
     "shell.execute_reply.started": "2023-04-06T02:36:46.261343Z"
    }
   },
   "outputs": [],
   "source": [
    "val_ds = tf.keras.utils.image_dataset_from_directory(\n",
    "    data_dir,\n",
    "    validation_split=0.2,\n",
    "    subset='validation',\n",
    "    seed=123,\n",
    "    image_size=(img_height,img_width),\n",
    "    batch_size=batch_size)"
   ]
  },
  {
   "cell_type": "code",
   "execution_count": null,
   "metadata": {
    "execution": {
     "iopub.execute_input": "2023-04-06T03:08:45.802926Z",
     "iopub.status.busy": "2023-04-06T03:08:45.801933Z",
     "iopub.status.idle": "2023-04-06T03:08:45.810201Z",
     "shell.execute_reply": "2023-04-06T03:08:45.809047Z",
     "shell.execute_reply.started": "2023-04-06T03:08:45.802888Z"
    }
   },
   "outputs": [],
   "source": [
    "def get_f1(y_true, y_pred):\n",
    "    true_positives = K.sum(K.round(K.clip(y_true * y_pred, 0, 1)))\n",
    "    possible_positives = K.sum(K.round(K.clip(y_true, 0, 1)))\n",
    "    predicted_positives = K.sum(K.round(K.clip(y_pred, 0, 1)))\n",
    "    precision = true_positives / (predicted_positives + K.epsilon())\n",
    "    recall = true_positives / (possible_positives + K.epsilon())\n",
    "    f1_val = 2*(precision*recall)/(precision+recall+K.epsilon())\n",
    "    return f1_val"
   ]
  },
  {
   "cell_type": "code",
   "execution_count": null,
   "metadata": {
    "execution": {
     "iopub.execute_input": "2023-04-06T02:38:09.751538Z",
     "iopub.status.busy": "2023-04-06T02:38:09.750595Z",
     "iopub.status.idle": "2023-04-06T02:52:21.886833Z",
     "shell.execute_reply": "2023-04-06T02:52:21.885841Z",
     "shell.execute_reply.started": "2023-04-06T02:38:09.751483Z"
    }
   },
   "outputs": [],
   "source": [
    "from keras.applications import VGG19\n",
    "base_learning_rate = 0.0001\n",
    "\n",
    "\n",
    "pretrained_model = VGG19(weights='imagenet', \n",
    "                include_top=False, \n",
    "                input_shape=(img_height, img_width, 3))\n",
    "pretrained_model.trainable = False\n",
    "    \n",
    "model = tf.keras.Sequential([\n",
    "    pretrained_model,\n",
    "    layers.GlobalAveragePooling2D(),\n",
    "    layers.Dense(1, activation='sigmoid')\n",
    "])\n",
    "    \n",
    "model.compile(\n",
    "    optimizer=optimizers.Adam(base_learning_rate),\n",
    "    loss =tf.keras.losses.BinaryCrossentropy(from_logits=True),\n",
    "    metrics=['binary_accuracy']\n",
    ")\n",
    "\n",
    "historical = model.fit(train_ds,\n",
    "                      epochs=epochs,\n",
    "                      validation_data = val_ds)"
   ]
  },
  {
   "cell_type": "code",
   "execution_count": null,
   "metadata": {
    "execution": {
     "iopub.execute_input": "2023-04-06T02:53:30.691548Z",
     "iopub.status.busy": "2023-04-06T02:53:30.690835Z",
     "iopub.status.idle": "2023-04-06T02:53:30.698561Z",
     "shell.execute_reply": "2023-04-06T02:53:30.697479Z",
     "shell.execute_reply.started": "2023-04-06T02:53:30.691508Z"
    }
   },
   "outputs": [],
   "source": [
    "from matplotlib import pyplot as plt\n",
    "\n",
    "def display_training_curves(training, validation, title, subplot):\n",
    "    if subplot%10==1: # set up the subplots on the first call\n",
    "        plt.subplots(figsize=(10,10), facecolor='#F0F0F0')\n",
    "        plt.tight_layout()\n",
    "    ax = plt.subplot(subplot)\n",
    "    ax.set_facecolor('#F8F8F8')\n",
    "    ax.plot(training)\n",
    "    ax.plot(validation)\n",
    "    ax.set_title('model '+ title)\n",
    "    ax.set_ylabel(title)\n",
    "    #ax.set_ylim(0.28,1.05)\n",
    "    ax.set_xlabel('epoch')\n",
    "    ax.legend(['train', 'valid.'])"
   ]
  },
  {
   "cell_type": "code",
   "execution_count": null,
   "metadata": {
    "execution": {
     "iopub.execute_input": "2023-04-06T02:54:43.461188Z",
     "iopub.status.busy": "2023-04-06T02:54:43.460792Z",
     "iopub.status.idle": "2023-04-06T02:54:43.984057Z",
     "shell.execute_reply": "2023-04-06T02:54:43.982444Z",
     "shell.execute_reply.started": "2023-04-06T02:54:43.461153Z"
    }
   },
   "outputs": [],
   "source": [
    "display_training_curves(\n",
    "    historical.history['loss'],\n",
    "    historical.history['val_loss'],\n",
    "    'loss',\n",
    "    211,\n",
    ")\n",
    "display_training_curves(\n",
    "    historical.history['binary_accuracy'],\n",
    "    historical.history['val_binary_accuracy'],\n",
    "    'accuracy',\n",
    "    212,\n",
    ")\n"
   ]
  },
  {
   "cell_type": "code",
   "execution_count": null,
   "metadata": {
    "execution": {
     "iopub.execute_input": "2023-04-06T03:06:20.093029Z",
     "iopub.status.busy": "2023-04-06T03:06:20.092076Z",
     "iopub.status.idle": "2023-04-06T03:06:20.247175Z",
     "shell.execute_reply": "2023-04-06T03:06:20.246114Z",
     "shell.execute_reply.started": "2023-04-06T03:06:20.092958Z"
    }
   },
   "outputs": [],
   "source": [
    "model.save('model.h5')"
   ]
  }
 ],
 "metadata": {
  "kernelspec": {
   "display_name": "Python 3",
   "language": "python",
   "name": "python3"
  },
  "language_info": {
   "codemirror_mode": {
    "name": "ipython",
    "version": 3
   },
   "file_extension": ".py",
   "mimetype": "text/x-python",
   "name": "python",
   "nbconvert_exporter": "python",
   "pygments_lexer": "ipython3",
   "version": "3.7.12"
  }
 },
 "nbformat": 4,
 "nbformat_minor": 4
}
